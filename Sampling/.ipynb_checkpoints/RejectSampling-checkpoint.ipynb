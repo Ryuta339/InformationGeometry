{
 "cells": [
  {
   "cell_type": "markdown",
   "metadata": {},
   "source": [
    "# 棄却サンプリング"
   ]
  },
  {
   "cell_type": "code",
   "execution_count": 1,
   "metadata": {},
   "outputs": [],
   "source": [
    "import numpy as np\n",
    "import matplotlib.pyplot as plt"
   ]
  },
  {
   "cell_type": "code",
   "execution_count": 2,
   "metadata": {},
   "outputs": [
    {
     "ename": "SyntaxError",
     "evalue": "invalid syntax (<ipython-input-2-f7e63ed52d7c>, line 9)",
     "output_type": "error",
     "traceback": [
      "\u001b[0;36m  File \u001b[0;32m\"<ipython-input-2-f7e63ed52d7c>\"\u001b[0;36m, line \u001b[0;32m9\u001b[0m\n\u001b[0;31m    if p(z) > u\u001b[0m\n\u001b[0m               ^\u001b[0m\n\u001b[0;31mSyntaxError\u001b[0m\u001b[0;31m:\u001b[0m invalid syntax\n"
     ]
    }
   ],
   "source": [
    "def p(x):\n",
    "    return np.cos (0.5*np.pi*x)**2\n",
    "\n",
    "def sampling ():\n",
    "    k = 2\n",
    "    while True:\n",
    "        z = np.random.uniform (-1,1)\n",
    "        u = k * np.random.uniform (0,0.5)\n",
    "        if p(z) > u:\n",
    "            return z\n",
    "    \n",
    "x = np.linspace(-1, 1, 500)\n",
    "y = p(x)\n",
    "\n",
    "# サンプル数\n",
    "N = 100000\n",
    "\n",
    "samples = np.array([sampling() for i in range(N)])\n",
    "\n",
    "plt.xlim(-1, 1)\n",
    "plt.hist(samples, bins=50,normed=True,alpha=0.5)\n",
    "plt.plot(x, y)\n",
    "plt.show()"
   ]
  },
  {
   "cell_type": "code",
   "execution_count": null,
   "metadata": {},
   "outputs": [],
   "source": []
  }
 ],
 "metadata": {
  "kernelspec": {
   "display_name": "Python 3",
   "language": "python",
   "name": "python3"
  },
  "language_info": {
   "codemirror_mode": {
    "name": "ipython",
    "version": 3
   },
   "file_extension": ".py",
   "mimetype": "text/x-python",
   "name": "python",
   "nbconvert_exporter": "python",
   "pygments_lexer": "ipython3",
   "version": "3.7.5"
  }
 },
 "nbformat": 4,
 "nbformat_minor": 4
}
