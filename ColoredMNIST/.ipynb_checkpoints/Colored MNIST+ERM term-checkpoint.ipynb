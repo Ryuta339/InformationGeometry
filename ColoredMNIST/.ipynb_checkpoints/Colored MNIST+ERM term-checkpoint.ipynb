{
 "cells": [
  {
   "cell_type": "code",
   "execution_count": 1,
   "metadata": {},
   "outputs": [
    {
     "name": "stdout",
     "output_type": "stream",
     "text": [
      "Downloading http://yann.lecun.com/exdb/mnist/train-images-idx3-ubyte.gz to /Users/Ryuta/datasets/mnist/MNIST/raw/train-images-idx3-ubyte.gz\n"
     ]
    },
    {
     "data": {
      "application/vnd.jupyter.widget-view+json": {
       "model_id": "d206ef577caa448c854374221c616f0a",
       "version_major": 2,
       "version_minor": 0
      },
      "text/plain": [
       "HBox(children=(HTML(value=''), FloatProgress(value=1.0, bar_style='info', layout=Layout(width='20px'), max=1.0…"
      ]
     },
     "metadata": {},
     "output_type": "display_data"
    },
    {
     "name": "stdout",
     "output_type": "stream",
     "text": [
      "Extracting /Users/Ryuta/datasets/mnist/MNIST/raw/train-images-idx3-ubyte.gz to /Users/Ryuta/datasets/mnist/MNIST/raw\n",
      "Downloading http://yann.lecun.com/exdb/mnist/train-labels-idx1-ubyte.gz to /Users/Ryuta/datasets/mnist/MNIST/raw/train-labels-idx1-ubyte.gz\n"
     ]
    },
    {
     "data": {
      "application/vnd.jupyter.widget-view+json": {
       "model_id": "f20ac1173d06441fb50d7979feb54ff5",
       "version_major": 2,
       "version_minor": 0
      },
      "text/plain": [
       "HBox(children=(HTML(value=''), FloatProgress(value=1.0, bar_style='info', layout=Layout(width='20px'), max=1.0…"
      ]
     },
     "metadata": {},
     "output_type": "display_data"
    },
    {
     "name": "stdout",
     "output_type": "stream",
     "text": [
      "Extracting /Users/Ryuta/datasets/mnist/MNIST/raw/train-labels-idx1-ubyte.gz to /Users/Ryuta/datasets/mnist/MNIST/raw\n",
      "Downloading http://yann.lecun.com/exdb/mnist/t10k-images-idx3-ubyte.gz to /Users/Ryuta/datasets/mnist/MNIST/raw/t10k-images-idx3-ubyte.gz\n",
      "\n"
     ]
    },
    {
     "data": {
      "application/vnd.jupyter.widget-view+json": {
       "model_id": "e69181a305944659825d342aa880d8fa",
       "version_major": 2,
       "version_minor": 0
      },
      "text/plain": [
       "HBox(children=(HTML(value=''), FloatProgress(value=1.0, bar_style='info', layout=Layout(width='20px'), max=1.0…"
      ]
     },
     "metadata": {},
     "output_type": "display_data"
    },
    {
     "name": "stdout",
     "output_type": "stream",
     "text": [
      "Extracting /Users/Ryuta/datasets/mnist/MNIST/raw/t10k-images-idx3-ubyte.gz to /Users/Ryuta/datasets/mnist/MNIST/raw\n",
      "Downloading http://yann.lecun.com/exdb/mnist/t10k-labels-idx1-ubyte.gz to /Users/Ryuta/datasets/mnist/MNIST/raw/t10k-labels-idx1-ubyte.gz\n"
     ]
    },
    {
     "data": {
      "application/vnd.jupyter.widget-view+json": {
       "model_id": "8384e273ad60413ebfe8a01efd8a0217",
       "version_major": 2,
       "version_minor": 0
      },
      "text/plain": [
       "HBox(children=(HTML(value=''), FloatProgress(value=1.0, bar_style='info', layout=Layout(width='20px'), max=1.0…"
      ]
     },
     "metadata": {},
     "output_type": "display_data"
    },
    {
     "name": "stdout",
     "output_type": "stream",
     "text": [
      "Extracting /Users/Ryuta/datasets/mnist/MNIST/raw/t10k-labels-idx1-ubyte.gz to /Users/Ryuta/datasets/mnist/MNIST/raw\n",
      "Processing...\n"
     ]
    },
    {
     "name": "stderr",
     "output_type": "stream",
     "text": [
      "/usr/local/lib/python3.7/site-packages/torchvision/datasets/mnist.py:480: UserWarning: The given NumPy array is not writeable, and PyTorch does not support non-writeable tensors. This means you can write to the underlying (supposedly non-writeable) NumPy array using the tensor. You may want to copy the array to protect its data or make it writeable before converting it to a tensor. This type of warning will be suppressed for the rest of this program. (Triggered internally at  ../torch/csrc/utils/tensor_numpy.cpp:141.)\n",
      "  return torch.from_numpy(parsed.astype(m[2], copy=False)).view(*s)\n"
     ]
    },
    {
     "name": "stdout",
     "output_type": "stream",
     "text": [
      "Done!\n",
      "tensor([5, 0, 8,  ..., 6, 6, 1])\n"
     ]
    }
   ],
   "source": [
    "# Copyright (c) Facebook, Inc. and its affiliates.\n",
    "# All rights reserved.\n",
    "#\n",
    "# This source code is licensed under the license found in the\n",
    "# LICENSE file in the root directory of this source tree.\n",
    "#\n",
    "\n",
    "import argparse\n",
    "import numpy as np\n",
    "import torch\n",
    "from torchvision import datasets\n",
    "from torch import nn, optim, autograd\n",
    "import torch.nn.functional as f\n",
    "\n",
    "parser = argparse.ArgumentParser(description='Colored MNIST')\n",
    "parser.add_argument('--hidden_dim', type=int, default=256)\n",
    "parser.add_argument('--l2_regularizer_weight', type=float,default=0.001)\n",
    "parser.add_argument('--lr', type=float, default=0.001)\n",
    "parser.add_argument('--n_restarts', type=int, default=10)\n",
    "parser.add_argument('--penalty_anneal_iters', type=int, default=100)\n",
    "parser.add_argument('--penalty_weight', type=float, default=10000.0)\n",
    "parser.add_argument('--steps', type=int, default=501)\n",
    "parser.add_argument('--grayscale_model', action='store_true')\n",
    "flags = parser.parse_args(args=[])\n",
    "\n",
    "\n",
    "ERMhidden_dim= 256\n",
    "  \n",
    "mnist = datasets.MNIST('~/datasets/mnist', train=True, download=True)\n",
    "mnist_train = (mnist.data[:50000], mnist.targets[:50000])\n",
    "mnist_val = (mnist.data[50000:], mnist.targets[50000:])\n",
    "\n",
    "\n",
    "rng_state = np.random.get_state()\n",
    "np.random.shuffle(mnist_train[0].numpy())\n",
    "np.random.set_state(rng_state)\n",
    "np.random.shuffle(mnist_train[1].numpy())\n",
    "\n",
    "\n",
    "def make_high_environment(images, labels,color): #0~4 ->0, 5-9 ->1, images[:][0]:red. images[:][1]:green, 0-->color\n",
    "    images = torch.stack([images,images], dim= 1)\n",
    "    # for i in range(len(labels)):\n",
    "    #     if labels[i] < 5:\n",
    "    #         labels[i]=0\n",
    "    #     else:\n",
    "    #         labels[i]=1\n",
    "    labels = np.array ([0 if c<5 else 1 for c in labels])\n",
    "    if color == 0:\n",
    "        images[torch.tensor(range(len(images))), 1-labels, :, :] *= 0\n",
    "    else:\n",
    "        images[torch.tensor(range(len(images))), labels, :, :] *= 0\n",
    "    return {\n",
    "      'images': (images.float() / 255.),\n",
    "      'labels':labels }\n",
    "\n",
    "\n",
    "\n",
    "henvs =[make_high_environment(mnist_train[0][::3], mnist_train[1][::3],0),\n",
    "       make_high_environment(mnist_train[0][1::3], mnist_train[1][1::3],1)]\n",
    "\n",
    "\n",
    "\n",
    "\n",
    "\n",
    "def make_low_environment(images, labels,color): #0~9b labels, image[:][0]:red, images[:][1]:green, 1~5 ---> color,\n",
    "    images = torch.stack([images,images], dim=1)\n",
    "    blabels=labels.clone()\n",
    "    print(labels)\n",
    "    for i in range(len(blabels)):\n",
    "        if blabels[i] < 5:\n",
    "            blabels[i]=0\n",
    "        else:\n",
    "            blabels[i]=1\n",
    "    if color == 0:\n",
    "        images[torch.tensor(range(len(images))), 1-blabels, :, :] *= 0\n",
    "    else:\n",
    "        images[torch.tensor(range(len(images))), blabels, :, :] *= 0\n",
    "    return {\n",
    "      'images': (images.float() / 255.),\n",
    "      'labels':labels }\n",
    "\n",
    "\n",
    "lenvs =make_low_environment(mnist_train[0][2::3], mnist_train[1][2::3],0)\n",
    "\n",
    "\n",
    "#Emprical risk minimization term\n",
    "\n",
    "class MLP(nn.Module):\n",
    "    def __init__(self):\n",
    "        super(MLP, self).__init__()\n",
    "        lin1 = nn.Linear(2 * 28 * 28, ERMhidden_dim)\n",
    "        lin2 = nn.Linear(ERMhidden_dim, ERMhidden_dim)\n",
    "        lin3 = nn.Linear(ERMhidden_dim, 9)\n",
    "        for lin in [lin1, lin2, lin3]:\n",
    "            nn.init.xavier_uniform_(lin.weight)\n",
    "            nn.init.zeros_(lin.bias)\n",
    "        self._main = nn.Sequential(lin1, nn.ReLU(True), lin2, nn.ReLU(True), lin3)\n",
    "    def forward(self, input):\n",
    "        out = self._main(input)\n",
    "        out=out.reshape(-1,9)\n",
    "        m = nn.Softmax(dim=1)\n",
    "        return m(out)\n",
    "    \n",
    "\n",
    "    \n",
    "#IP-extracting term\n",
    "\n",
    "class IPE(nn.Module):\n",
    "    def __init__(self):\n",
    "        super(IPE,self).__init__()\n",
    "        \n",
    "        \n",
    "\n",
    "  # Build environment\n",
    "\n",
    "\n",
    "\n"
   ]
  },
  {
   "cell_type": "code",
   "execution_count": null,
   "metadata": {},
   "outputs": [],
   "source": []
  },
  {
   "cell_type": "code",
   "execution_count": null,
   "metadata": {},
   "outputs": [],
   "source": []
  }
 ],
 "metadata": {
  "kernelspec": {
   "display_name": "Python 3",
   "language": "python",
   "name": "python3"
  },
  "language_info": {
   "codemirror_mode": {
    "name": "ipython",
    "version": 3
   },
   "file_extension": ".py",
   "mimetype": "text/x-python",
   "name": "python",
   "nbconvert_exporter": "python",
   "pygments_lexer": "ipython3",
   "version": "3.7.9"
  }
 },
 "nbformat": 4,
 "nbformat_minor": 4
}
